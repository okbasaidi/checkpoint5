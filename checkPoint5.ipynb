{
 "cells": [
  {
   "cell_type": "code",
   "execution_count": 1,
   "id": "de94913d",
   "metadata": {},
   "outputs": [
    {
     "name": "stdout",
     "output_type": "stream",
     "text": [
      "X is :1\n",
      "Y is :2\n"
     ]
    }
   ],
   "source": [
    "class Point3D:\n",
    "    def __init__(be,x,y,z):\n",
    "        be.x=x\n",
    "        be.y=y\n",
    "        be.z=z\n",
    "my_point=Point3D(1,2,3)\n",
    "print('X is :{}'.format(my_point.x))\n",
    "print('Y is :{}'.format(my_point.y))"
   ]
  },
  {
   "cell_type": "code",
   "execution_count": 34,
   "id": "9c33349a",
   "metadata": {},
   "outputs": [
    {
     "name": "stdout",
     "output_type": "stream",
     "text": [
      "the area is 12\n",
      "the area is 14\n"
     ]
    }
   ],
   "source": [
    "class Rectangle:\n",
    "    def __init__(ea,lengh,width):\n",
    "        ea.lengh=lengh\n",
    "        ea.width=width\n",
    "\n",
    "    def area(ea):\n",
    "        a=ea.lengh*ea.width\n",
    "        return(a)\n",
    "    def permiter(ea):\n",
    "        b=(ea.lengh+ea.width)*2\n",
    "        return(b)\n",
    "my_Rectangle=Rectangle(3,4)\n",
    "print('the area is {}'.format(my_Rectangle.area()))\n",
    "print('the area is {}'.format(my_Rectangle.permiter()))"
   ]
  },
  {
   "cell_type": "code",
   "execution_count": 90,
   "id": "ce9e595e",
   "metadata": {},
   "outputs": [
    {
     "name": "stdout",
     "output_type": "stream",
     "text": [
      "the area is 50.24\n",
      "the permiter is 25.12\n",
      "Circle outside\n",
      "None\n"
     ]
    }
   ],
   "source": [
    "class Circle:\n",
    "    def __init__(self,O1,O2,R):\n",
    "        self.R=R\n",
    "        self.O1=O1\n",
    "        self.O2=O2\n",
    "    def area(self):\n",
    "        a=self.R**2*3.14\n",
    "        return(a)\n",
    "    def permiter(self):\n",
    "        b=2*self.R*3.14\n",
    "        return(b)\n",
    "    def isinside(self,x,y):\n",
    "        if((x-self.O1*x)**2+(y-self.O2*y)**2 < self.R**2):\n",
    "            print('Circle inside')\n",
    "        else:\n",
    "            print('Circle outside')\n",
    "my_Circle=Circle(0,0,4)\n",
    "print('the area is {}'.format(my_Cirle.area()))\n",
    "print('the permiter is {}'.format(my_Cirle.permiter()))\n",
    "print(my_Circle.isinside(3,4))   "
   ]
  },
  {
   "cell_type": "code",
   "execution_count": 10,
   "id": "4540e294",
   "metadata": {},
   "outputs": [
    {
     "name": "stdout",
     "output_type": "stream",
     "text": [
      "please write how much do you want:1200\n",
      "please Enter new amount: 1300\n",
      "please Enter new amount: 400\n",
      "your new balance is 600\n",
      "please write how much do you want to put:600\n",
      "your new balance is 1200\n"
     ]
    }
   ],
   "source": [
    "class Bank:\n",
    "    def __init__(self,balan):\n",
    "        self.balan=balan\n",
    "    def withdrawl(self):\n",
    "        withdrwl=int(input('please write how much do you want:')) \n",
    "        while withdrwl> self.balan:\n",
    "            withdrwl=int(input('please Enter new amount: '))\n",
    "            if withdrwl<self.balan:\n",
    "                self.balan=self.balan-withdrwl \n",
    "        return(self.balan)     \n",
    "    def Deposit(self):\n",
    "        depositt=int(input('please write how much do you want to put:'))\n",
    "        newbalance=self.balan+depositt\n",
    "        return(newbalance)\n",
    "my_balance=Bank(1000)\n",
    "print('your new balance is {}'.format(my_balance.withdrawl()))\n",
    "print('your new balance is {}'.format(my_balance.Deposit()))   "
   ]
  },
  {
   "cell_type": "code",
   "execution_count": null,
   "id": "63874701",
   "metadata": {},
   "outputs": [],
   "source": []
  }
 ],
 "metadata": {
  "kernelspec": {
   "display_name": "Python 3 (ipykernel)",
   "language": "python",
   "name": "python3"
  },
  "language_info": {
   "codemirror_mode": {
    "name": "ipython",
    "version": 3
   },
   "file_extension": ".py",
   "mimetype": "text/x-python",
   "name": "python",
   "nbconvert_exporter": "python",
   "pygments_lexer": "ipython3",
   "version": "3.9.7"
  }
 },
 "nbformat": 4,
 "nbformat_minor": 5
}
